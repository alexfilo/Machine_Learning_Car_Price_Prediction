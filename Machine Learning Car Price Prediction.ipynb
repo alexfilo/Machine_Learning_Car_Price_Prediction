{
 "cells": [
  {
   "cell_type": "markdown",
   "metadata": {},
   "source": [
    "# Data Processing"
   ]
  },
  {
   "cell_type": "code",
   "execution_count": null,
   "metadata": {
    "execution": {
     "iopub.execute_input": "2021-11-29T18:46:09.681401Z",
     "iopub.status.busy": "2021-11-29T18:46:09.680986Z",
     "iopub.status.idle": "2021-11-29T18:46:09.690774Z",
     "shell.execute_reply": "2021-11-29T18:46:09.689454Z",
     "shell.execute_reply.started": "2021-11-29T18:46:09.681361Z"
    }
   },
   "outputs": [],
   "source": [
    "# Data\n",
    "import pandas as pd\n",
    "import numpy as np\n",
    "\n",
    "# Models\n",
    "from sklearn.neighbors import KNeighborsRegressor\n",
    "import lightgbm as lgbm\n",
    "from sklearn.linear_model import LinearRegression\n",
    "\n",
    "# Pipelines/Processing\n",
    "from sklearn.pipeline import Pipeline\n",
    "from sklearn.compose import ColumnTransformer\n",
    "from sklearn.preprocessing import StandardScaler, OrdinalEncoder, OneHotEncoder\n",
    "\n",
    "# Cross-Validation\n",
    "from sklearn.model_selection import KFold, cross_val_score, train_test_split, cross_validate, GridSearchCV\n",
    "from mlxtend.evaluate import PredefinedHoldoutSplit\n",
    "import optuna\n",
    "from optuna.integration import LightGBMPruningCallback\n",
    "import optuna.integration.lightgbm as lgb\n",
    "\n",
    "# Performance/Debugging\n",
    "from sklearn import metrics\n",
    "import time\n",
    "from sklearn.metrics import log_loss\n",
    "import warnings"
   ]
  },
  {
   "cell_type": "code",
   "execution_count": null,
   "metadata": {
    "execution": {
     "iopub.execute_input": "2021-11-29T18:45:25.686845Z",
     "iopub.status.busy": "2021-11-29T18:45:25.685604Z",
     "iopub.status.idle": "2021-11-29T18:45:27.770016Z",
     "shell.execute_reply": "2021-11-29T18:45:27.769137Z",
     "shell.execute_reply.started": "2021-11-29T18:45:25.686783Z"
    }
   },
   "outputs": [],
   "source": [
    "df = pd.read_csv(r'../input/autos/autos.csv', encoding='latin-1')\n",
    "df = df.drop(['dateCrawled', 'lastSeen', 'postalCode', 'nrOfPictures', 'monthOfRegistration', 'dateCreated'], axis=1)\n",
    "df"
   ]
  },
  {
   "cell_type": "code",
   "execution_count": null,
   "metadata": {
    "execution": {
     "iopub.execute_input": "2021-11-29T18:45:27.772063Z",
     "iopub.status.busy": "2021-11-29T18:45:27.771262Z",
     "iopub.status.idle": "2021-11-29T18:45:28.922071Z",
     "shell.execute_reply": "2021-11-29T18:45:28.921164Z",
     "shell.execute_reply.started": "2021-11-29T18:45:27.772023Z"
    }
   },
   "outputs": [],
   "source": [
    "for var in df.columns:\n",
    "    na = sum(df[var].isna())/len(df)\n",
    "    print(f'{var}: {100 * na:.3f}')"
   ]
  },
  {
   "cell_type": "markdown",
   "metadata": {},
   "source": [
    "### Fixing Seller\n",
    "Remove the cars being sold by businesss (only 3)"
   ]
  },
  {
   "cell_type": "code",
   "execution_count": null,
   "metadata": {
    "execution": {
     "iopub.execute_input": "2021-11-29T18:45:28.924608Z",
     "iopub.status.busy": "2021-11-29T18:45:28.92436Z",
     "iopub.status.idle": "2021-11-29T18:45:29.057471Z",
     "shell.execute_reply": "2021-11-29T18:45:29.05681Z",
     "shell.execute_reply.started": "2021-11-29T18:45:28.924578Z"
    }
   },
   "outputs": [],
   "source": [
    "df = df[df['seller'] != 'gewerblich'] # Remove the three offers made by businesses instead of people\n",
    "df = df.drop('seller', axis = 1)"
   ]
  },
  {
   "cell_type": "markdown",
   "metadata": {},
   "source": [
    "### Fixing offerType\n",
    "Need to remove cars not being asked to offer on, but that are instead requests (Ex: requests to fix). Only 12 of these"
   ]
  },
  {
   "cell_type": "code",
   "execution_count": null,
   "metadata": {
    "execution": {
     "iopub.execute_input": "2021-11-29T18:45:29.05921Z",
     "iopub.status.busy": "2021-11-29T18:45:29.058671Z",
     "iopub.status.idle": "2021-11-29T18:45:29.203174Z",
     "shell.execute_reply": "2021-11-29T18:45:29.202221Z",
     "shell.execute_reply.started": "2021-11-29T18:45:29.059174Z"
    }
   },
   "outputs": [],
   "source": [
    "df = df[df['offerType'] != 'Gesuch']\n",
    "df = df.drop('offerType', axis=1)"
   ]
  },
  {
   "cell_type": "markdown",
   "metadata": {},
   "source": [
    "### Fixing Price\n",
    "Some cars have values way above normal (Ex: 999999999 or 123123123). Remove inplausible numbers. It seems like 300000 is a good threshold for what is real after googling some of these cars. Remove 122 cars with exceedingly high price."
   ]
  },
  {
   "cell_type": "code",
   "execution_count": null,
   "metadata": {
    "execution": {
     "iopub.execute_input": "2021-11-29T18:45:29.205417Z",
     "iopub.status.busy": "2021-11-29T18:45:29.205084Z",
     "iopub.status.idle": "2021-11-29T18:45:29.307792Z",
     "shell.execute_reply": "2021-11-29T18:45:29.306746Z",
     "shell.execute_reply.started": "2021-11-29T18:45:29.205376Z"
    }
   },
   "outputs": [],
   "source": [
    "print(sum(df['price'] > 300000))\n",
    "df = df[df['price'] <= 300000]"
   ]
  },
  {
   "cell_type": "markdown",
   "metadata": {},
   "source": [
    "Remove the cars with no price set (0). There are a lot of these, around 12k"
   ]
  },
  {
   "cell_type": "code",
   "execution_count": null,
   "metadata": {
    "execution": {
     "iopub.execute_input": "2021-11-29T18:45:29.310793Z",
     "iopub.status.busy": "2021-11-29T18:45:29.310156Z",
     "iopub.status.idle": "2021-11-29T18:45:29.409779Z",
     "shell.execute_reply": "2021-11-29T18:45:29.40869Z",
     "shell.execute_reply.started": "2021-11-29T18:45:29.310744Z"
    }
   },
   "outputs": [],
   "source": [
    "sum(df['price'] == 0)\n",
    "df = df[df['price'] != 0]"
   ]
  },
  {
   "cell_type": "code",
   "execution_count": null,
   "metadata": {
    "execution": {
     "iopub.execute_input": "2021-11-29T18:45:29.411835Z",
     "iopub.status.busy": "2021-11-29T18:45:29.411426Z",
     "iopub.status.idle": "2021-11-29T18:45:29.743897Z",
     "shell.execute_reply": "2021-11-29T18:45:29.742706Z",
     "shell.execute_reply.started": "2021-11-29T18:45:29.4118Z"
    }
   },
   "outputs": [],
   "source": [
    "df[df['price'] < 500]['price'].hist()\n",
    "sum(df['price'] < 500)\n",
    "df = df[df['price'] >= 500]"
   ]
  },
  {
   "cell_type": "markdown",
   "metadata": {},
   "source": [
    "### Fixing abtest\n",
    "Not sure what this is but it doesnt seem to be too important. Probably can drop it."
   ]
  },
  {
   "cell_type": "code",
   "execution_count": null,
   "metadata": {
    "execution": {
     "iopub.execute_input": "2021-11-29T18:45:29.745351Z",
     "iopub.status.busy": "2021-11-29T18:45:29.745132Z",
     "iopub.status.idle": "2021-11-29T18:45:30.67285Z",
     "shell.execute_reply": "2021-11-29T18:45:30.671808Z",
     "shell.execute_reply.started": "2021-11-29T18:45:29.745323Z"
    }
   },
   "outputs": [],
   "source": [
    "df['abtest'].value_counts()\n",
    "df.boxplot('price', 'abtest')\n",
    "df = df.drop('abtest', axis=1)"
   ]
  },
  {
   "cell_type": "markdown",
   "metadata": {},
   "source": [
    "### Fixing Vehicle Type\n",
    "Many cars are mislabelled. Will ignore those considered 'andere' or other as they have no classification.\n",
    "\n",
    "Not sure what the difference between kombi and limousine are, joined them both into car category for now."
   ]
  },
  {
   "cell_type": "code",
   "execution_count": null,
   "metadata": {
    "execution": {
     "iopub.execute_input": "2021-11-29T18:45:30.676067Z",
     "iopub.status.busy": "2021-11-29T18:45:30.675838Z",
     "iopub.status.idle": "2021-11-29T18:45:30.904975Z",
     "shell.execute_reply": "2021-11-29T18:45:30.904226Z",
     "shell.execute_reply.started": "2021-11-29T18:45:30.676041Z"
    }
   },
   "outputs": [],
   "source": [
    "print(df['vehicleType'].value_counts())\n",
    "translations = {'kleinwagen': 'small car', # 100% sure\n",
    "               'kombi': 'car', # Not sure what the difference between kombi and limousine are\n",
    "               'cabrio': 'convertible', # 100% sure\n",
    "               'limousine': 'car', # Not sure what the difference between kombi and limousine are\n",
    "               'bus': 'van'}\n",
    "\n",
    "df['vehicleType'] = df['vehicleType'].replace(translations)\n",
    "df['vehicleType'].value_counts()\n"
   ]
  },
  {
   "cell_type": "code",
   "execution_count": null,
   "metadata": {
    "execution": {
     "iopub.execute_input": "2021-11-29T18:45:30.906437Z",
     "iopub.status.busy": "2021-11-29T18:45:30.906087Z",
     "iopub.status.idle": "2021-11-29T18:45:30.985407Z",
     "shell.execute_reply": "2021-11-29T18:45:30.984529Z",
     "shell.execute_reply.started": "2021-11-29T18:45:30.906409Z"
    }
   },
   "outputs": [],
   "source": [
    "df = df[df['vehicleType'] != 'andere']"
   ]
  },
  {
   "cell_type": "markdown",
   "metadata": {},
   "source": [
    "### Fixing Year Of Registration\n",
    "First remove completely impossible values (years in the future or before 1900)"
   ]
  },
  {
   "cell_type": "code",
   "execution_count": null,
   "metadata": {
    "execution": {
     "iopub.execute_input": "2021-11-29T18:45:30.98751Z",
     "iopub.status.busy": "2021-11-29T18:45:30.987024Z",
     "iopub.status.idle": "2021-11-29T18:45:31.116189Z",
     "shell.execute_reply": "2021-11-29T18:45:31.115257Z",
     "shell.execute_reply.started": "2021-11-29T18:45:30.987469Z"
    }
   },
   "outputs": [],
   "source": [
    "sum(df['yearOfRegistration'] > 2021)\n",
    "sum(df['yearOfRegistration'] < 1900)\n",
    "df = df[(df['yearOfRegistration'] < 2021) & (df['yearOfRegistration'] > 1900)]"
   ]
  },
  {
   "cell_type": "code",
   "execution_count": null,
   "metadata": {
    "execution": {
     "iopub.execute_input": "2021-11-29T18:45:31.118123Z",
     "iopub.status.busy": "2021-11-29T18:45:31.1176Z",
     "iopub.status.idle": "2021-11-29T18:45:31.130941Z",
     "shell.execute_reply": "2021-11-29T18:45:31.129771Z",
     "shell.execute_reply.started": "2021-11-29T18:45:31.118077Z"
    }
   },
   "outputs": [],
   "source": [
    "df['yearOfRegistration'].value_counts()"
   ]
  },
  {
   "cell_type": "code",
   "execution_count": null,
   "metadata": {
    "execution": {
     "iopub.execute_input": "2021-11-29T18:45:31.132473Z",
     "iopub.status.busy": "2021-11-29T18:45:31.132197Z",
     "iopub.status.idle": "2021-11-29T18:45:31.161605Z",
     "shell.execute_reply": "2021-11-29T18:45:31.160535Z",
     "shell.execute_reply.started": "2021-11-29T18:45:31.132442Z"
    }
   },
   "outputs": [],
   "source": [
    "df[df['yearOfRegistration'] == 1910] # These cars are definitely not from 1910"
   ]
  },
  {
   "cell_type": "code",
   "execution_count": null,
   "metadata": {
    "execution": {
     "iopub.execute_input": "2021-11-29T18:45:31.164277Z",
     "iopub.status.busy": "2021-11-29T18:45:31.163623Z",
     "iopub.status.idle": "2021-11-29T18:45:31.188383Z",
     "shell.execute_reply": "2021-11-29T18:45:31.187498Z",
     "shell.execute_reply.started": "2021-11-29T18:45:31.164228Z"
    }
   },
   "outputs": [],
   "source": [
    "df[df['yearOfRegistration'] == 1950] # These ones are right"
   ]
  },
  {
   "cell_type": "code",
   "execution_count": null,
   "metadata": {
    "execution": {
     "iopub.execute_input": "2021-11-29T18:45:31.190849Z",
     "iopub.status.busy": "2021-11-29T18:45:31.190257Z",
     "iopub.status.idle": "2021-11-29T18:45:31.234043Z",
     "shell.execute_reply": "2021-11-29T18:45:31.233278Z",
     "shell.execute_reply.started": "2021-11-29T18:45:31.190804Z"
    }
   },
   "outputs": [],
   "source": [
    "df = df[df['yearOfRegistration'] > 1950]"
   ]
  },
  {
   "cell_type": "code",
   "execution_count": null,
   "metadata": {
    "execution": {
     "iopub.execute_input": "2021-11-29T18:45:31.236459Z",
     "iopub.status.busy": "2021-11-29T18:45:31.235602Z",
     "iopub.status.idle": "2021-11-29T18:45:31.504516Z",
     "shell.execute_reply": "2021-11-29T18:45:31.503941Z",
     "shell.execute_reply.started": "2021-11-29T18:45:31.236397Z"
    }
   },
   "outputs": [],
   "source": [
    "df['yearOfRegistration'].hist()"
   ]
  },
  {
   "cell_type": "markdown",
   "metadata": {},
   "source": [
    "### Fixing gearbox"
   ]
  },
  {
   "cell_type": "code",
   "execution_count": null,
   "metadata": {
    "execution": {
     "iopub.execute_input": "2021-11-29T18:45:31.505984Z",
     "iopub.status.busy": "2021-11-29T18:45:31.505582Z",
     "iopub.status.idle": "2021-11-29T18:45:31.758662Z",
     "shell.execute_reply": "2021-11-29T18:45:31.758049Z",
     "shell.execute_reply.started": "2021-11-29T18:45:31.505937Z"
    }
   },
   "outputs": [],
   "source": [
    "translations = {'manuell': 'manual',\n",
    "               'automatik': 'automatic'}\n",
    "df['gearbox'] = df['gearbox'].replace(translations)\n",
    "\n",
    "boolean = {'automatik': True,\n",
    "          'manuell': False}\n",
    "\n",
    "df['automatic'] = df['gearbox'].replace(boolean)\n",
    "df = df.drop('gearbox', axis = 1)\n",
    "df['automatic'].value_counts()"
   ]
  },
  {
   "cell_type": "markdown",
   "metadata": {},
   "source": [
    "### Fixing powerPS\n",
    "\n",
    "No commercial car has more than 1000HP, and none have less than 5. Additionally, practically no cars have below 50hp, and very few above 400. 500 found to be good threshold.\n"
   ]
  },
  {
   "cell_type": "code",
   "execution_count": null,
   "metadata": {
    "execution": {
     "iopub.execute_input": "2021-11-29T18:45:31.760089Z",
     "iopub.status.busy": "2021-11-29T18:45:31.759758Z",
     "iopub.status.idle": "2021-11-29T18:45:32.087038Z",
     "shell.execute_reply": "2021-11-29T18:45:32.086052Z",
     "shell.execute_reply.started": "2021-11-29T18:45:31.760062Z"
    }
   },
   "outputs": [],
   "source": [
    "print(sum(df['powerPS'] > 1000))\n",
    "df = df[df['powerPS'] < 500]\n",
    "df['powerPS'].hist()"
   ]
  },
  {
   "cell_type": "code",
   "execution_count": null,
   "metadata": {
    "execution": {
     "iopub.execute_input": "2021-11-29T18:45:32.088606Z",
     "iopub.status.busy": "2021-11-29T18:45:32.088397Z",
     "iopub.status.idle": "2021-11-29T18:45:32.121788Z",
     "shell.execute_reply": "2021-11-29T18:45:32.120688Z",
     "shell.execute_reply.started": "2021-11-29T18:45:32.08858Z"
    }
   },
   "outputs": [],
   "source": [
    "df = df[df['powerPS'] > 50]"
   ]
  },
  {
   "cell_type": "code",
   "execution_count": null,
   "metadata": {
    "execution": {
     "iopub.execute_input": "2021-11-29T18:45:32.124126Z",
     "iopub.status.busy": "2021-11-29T18:45:32.123685Z",
     "iopub.status.idle": "2021-11-29T18:45:32.223855Z",
     "shell.execute_reply": "2021-11-29T18:45:32.222823Z",
     "shell.execute_reply.started": "2021-11-29T18:45:32.124082Z"
    }
   },
   "outputs": [],
   "source": [
    "df.sort_values('powerPS', ascending=False)"
   ]
  },
  {
   "cell_type": "markdown",
   "metadata": {},
   "source": [
    "### Fixing Model\n",
    "model: 5.513\n",
    "Too many values, probably not worth trying to do anything with but IDK.\n"
   ]
  },
  {
   "cell_type": "code",
   "execution_count": null,
   "metadata": {
    "execution": {
     "iopub.execute_input": "2021-11-29T18:45:32.225653Z",
     "iopub.status.busy": "2021-11-29T18:45:32.225379Z",
     "iopub.status.idle": "2021-11-29T18:45:32.28212Z",
     "shell.execute_reply": "2021-11-29T18:45:32.281018Z",
     "shell.execute_reply.started": "2021-11-29T18:45:32.225621Z"
    }
   },
   "outputs": [],
   "source": [
    "df['model'].value_counts()"
   ]
  },
  {
   "cell_type": "markdown",
   "metadata": {},
   "source": [
    "### Fixing kilometer\n",
    "\n",
    "Wow, this actually is fine and no wrong values."
   ]
  },
  {
   "cell_type": "code",
   "execution_count": null,
   "metadata": {
    "execution": {
     "iopub.execute_input": "2021-11-29T18:45:32.284032Z",
     "iopub.status.busy": "2021-11-29T18:45:32.283795Z",
     "iopub.status.idle": "2021-11-29T18:45:32.555569Z",
     "shell.execute_reply": "2021-11-29T18:45:32.554773Z",
     "shell.execute_reply.started": "2021-11-29T18:45:32.284004Z"
    }
   },
   "outputs": [],
   "source": [
    "df['kilometer'].hist()"
   ]
  },
  {
   "cell_type": "markdown",
   "metadata": {},
   "source": [
    "### Fixing fuel type\n",
    "Just need to translate and remove not categorized.\n"
   ]
  },
  {
   "cell_type": "code",
   "execution_count": null,
   "metadata": {
    "execution": {
     "iopub.execute_input": "2021-11-29T18:45:32.557023Z",
     "iopub.status.busy": "2021-11-29T18:45:32.556794Z",
     "iopub.status.idle": "2021-11-29T18:45:32.768825Z",
     "shell.execute_reply": "2021-11-29T18:45:32.767634Z",
     "shell.execute_reply.started": "2021-11-29T18:45:32.556994Z"
    }
   },
   "outputs": [],
   "source": [
    "translations = {'elektro': 'electric',\n",
    "               'andere': 'other',\n",
    "               'benzin': 'gas'}\n",
    "df['fuelType'] = df['fuelType'].replace(translations)\n",
    "df['fuelType'].value_counts()\n",
    "df[df['fuelType'] != 'other']"
   ]
  },
  {
   "cell_type": "markdown",
   "metadata": {},
   "source": [
    "### Fixing brand\n",
    "Will remove any brand that doesnt have more than 100 listings (only 1 brand doesnt meet this)"
   ]
  },
  {
   "cell_type": "code",
   "execution_count": null,
   "metadata": {
    "execution": {
     "iopub.execute_input": "2021-11-29T18:45:32.770226Z",
     "iopub.status.busy": "2021-11-29T18:45:32.770019Z",
     "iopub.status.idle": "2021-11-29T18:45:32.901384Z",
     "shell.execute_reply": "2021-11-29T18:45:32.90024Z",
     "shell.execute_reply.started": "2021-11-29T18:45:32.770201Z"
    }
   },
   "outputs": [],
   "source": [
    "df['brand'].value_counts()\n",
    "df = df[df['brand'] != 'trandere']"
   ]
  },
  {
   "cell_type": "markdown",
   "metadata": {},
   "source": [
    "### Fixing damage"
   ]
  },
  {
   "cell_type": "code",
   "execution_count": null,
   "metadata": {
    "execution": {
     "iopub.execute_input": "2021-11-29T18:45:32.903365Z",
     "iopub.status.busy": "2021-11-29T18:45:32.903031Z",
     "iopub.status.idle": "2021-11-29T18:45:33.047818Z",
     "shell.execute_reply": "2021-11-29T18:45:33.046917Z",
     "shell.execute_reply.started": "2021-11-29T18:45:32.903324Z"
    }
   },
   "outputs": [],
   "source": [
    "df.notRepairedDamage\n",
    "translations = {'nein': False,\n",
    "               'ja': True}\n",
    "\n",
    "df['damaged'] = df['notRepairedDamage'].replace(translations)\n",
    "df['damaged'] = df['damaged'].fillna(False)"
   ]
  },
  {
   "cell_type": "markdown",
   "metadata": {},
   "source": [
    "## Final Dataframe"
   ]
  },
  {
   "cell_type": "code",
   "execution_count": null,
   "metadata": {
    "execution": {
     "iopub.execute_input": "2021-11-29T18:45:33.049656Z",
     "iopub.status.busy": "2021-11-29T18:45:33.049347Z",
     "iopub.status.idle": "2021-11-29T18:45:33.089931Z",
     "shell.execute_reply": "2021-11-29T18:45:33.088701Z",
     "shell.execute_reply.started": "2021-11-29T18:45:33.049618Z"
    }
   },
   "outputs": [],
   "source": [
    "df = df.drop(['notRepairedDamage', 'model'], axis=1)\n",
    "\n",
    "new_names = {'vehicleType': 'type',\n",
    "            'yearOfRegistration': 'year',\n",
    "            'powerPS': 'hp',\n",
    "            'fuelType': 'fuel'}\n",
    "\n",
    "df = df.rename(columns=new_names)\n"
   ]
  },
  {
   "cell_type": "code",
   "execution_count": null,
   "metadata": {
    "execution": {
     "iopub.execute_input": "2021-11-29T18:45:33.096254Z",
     "iopub.status.busy": "2021-11-29T18:45:33.095651Z",
     "iopub.status.idle": "2021-11-29T18:45:33.692969Z",
     "shell.execute_reply": "2021-11-29T18:45:33.691828Z",
     "shell.execute_reply.started": "2021-11-29T18:45:33.096201Z"
    }
   },
   "outputs": [],
   "source": [
    "for var in df.columns:\n",
    "    na = sum(df[var].isna())/len(df)\n",
    "    print(f'{var}: {100 * na:.3f}')"
   ]
  },
  {
   "cell_type": "markdown",
   "metadata": {},
   "source": [
    "# Data Analysis\n",
    "It appears year made and horsepower have the biggest effect on increasing price. Numbre of kilometers driven and whether damaged reduce price."
   ]
  },
  {
   "cell_type": "code",
   "execution_count": null,
   "metadata": {
    "execution": {
     "iopub.execute_input": "2021-11-29T18:45:33.694396Z",
     "iopub.status.busy": "2021-11-29T18:45:33.694162Z",
     "iopub.status.idle": "2021-11-29T18:45:33.739228Z",
     "shell.execute_reply": "2021-11-29T18:45:33.738385Z",
     "shell.execute_reply.started": "2021-11-29T18:45:33.694368Z"
    }
   },
   "outputs": [],
   "source": [
    "df.corr()"
   ]
  },
  {
   "cell_type": "code",
   "execution_count": null,
   "metadata": {
    "execution": {
     "iopub.execute_input": "2021-11-29T18:45:33.741839Z",
     "iopub.status.busy": "2021-11-29T18:45:33.740916Z",
     "iopub.status.idle": "2021-11-29T18:45:33.93543Z",
     "shell.execute_reply": "2021-11-29T18:45:33.934422Z",
     "shell.execute_reply.started": "2021-11-29T18:45:33.741777Z"
    }
   },
   "outputs": [],
   "source": [
    "df = df.dropna()"
   ]
  },
  {
   "cell_type": "code",
   "execution_count": null,
   "metadata": {
    "execution": {
     "iopub.execute_input": "2021-11-29T18:45:33.937745Z",
     "iopub.status.busy": "2021-11-29T18:45:33.937042Z",
     "iopub.status.idle": "2021-11-29T18:45:34.086601Z",
     "shell.execute_reply": "2021-11-29T18:45:34.085564Z",
     "shell.execute_reply.started": "2021-11-29T18:45:33.937676Z"
    }
   },
   "outputs": [],
   "source": [
    "df_cat = df.copy()\n",
    "df_cat['type'] = df['type'].astype('category')\n",
    "df_cat['fuel'] = df['fuel'].astype('category')\n",
    "df_cat['brand'] = df['brand'].astype('category')\n",
    "df_cat['type']"
   ]
  },
  {
   "cell_type": "markdown",
   "metadata": {},
   "source": [
    "# Preprocessing\n",
    "\n",
    "Testing set is to be 20% of the data. Use seed 123 to split, and we will shuffle."
   ]
  },
  {
   "cell_type": "code",
   "execution_count": null,
   "metadata": {
    "execution": {
     "iopub.execute_input": "2021-11-29T18:45:34.088132Z",
     "iopub.status.busy": "2021-11-29T18:45:34.087913Z",
     "iopub.status.idle": "2021-11-29T18:45:34.093622Z",
     "shell.execute_reply": "2021-11-29T18:45:34.092589Z",
     "shell.execute_reply.started": "2021-11-29T18:45:34.088107Z"
    }
   },
   "outputs": [],
   "source": [
    "num_vars = ['kilometer', 'year', 'hp']\n",
    "cat_vars = ['type', 'fuel', 'brand', 'automatic', 'damaged']\n"
   ]
  },
  {
   "cell_type": "code",
   "execution_count": null,
   "metadata": {
    "execution": {
     "iopub.execute_input": "2021-11-29T18:45:34.095439Z",
     "iopub.status.busy": "2021-11-29T18:45:34.09513Z",
     "iopub.status.idle": "2021-11-29T18:45:34.178483Z",
     "shell.execute_reply": "2021-11-29T18:45:34.177538Z",
     "shell.execute_reply.started": "2021-11-29T18:45:34.095399Z"
    }
   },
   "outputs": [],
   "source": [
    "X_train, X_test, y_train, y_test = train_test_split(df[num_vars+cat_vars], df['price'],\n",
    "                                                    test_size=0.2,\n",
    "                                                    random_state=123,\n",
    "                                                    shuffle=True)"
   ]
  },
  {
   "cell_type": "code",
   "execution_count": null,
   "metadata": {
    "execution": {
     "iopub.execute_input": "2021-11-29T18:45:34.180114Z",
     "iopub.status.busy": "2021-11-29T18:45:34.179877Z",
     "iopub.status.idle": "2021-11-29T18:45:34.200609Z",
     "shell.execute_reply": "2021-11-29T18:45:34.199877Z",
     "shell.execute_reply.started": "2021-11-29T18:45:34.180077Z"
    },
    "scrolled": true
   },
   "outputs": [],
   "source": [
    "X_train"
   ]
  },
  {
   "cell_type": "markdown",
   "metadata": {},
   "source": [
    "---\n",
    "# Evaluation\n",
    "\n",
    "### Model: Linear Regression"
   ]
  },
  {
   "cell_type": "code",
   "execution_count": null,
   "metadata": {
    "execution": {
     "iopub.execute_input": "2021-11-29T18:46:34.182831Z",
     "iopub.status.busy": "2021-11-29T18:46:34.182518Z",
     "iopub.status.idle": "2021-11-29T18:46:34.207371Z",
     "shell.execute_reply": "2021-11-29T18:46:34.206511Z",
     "shell.execute_reply.started": "2021-11-29T18:46:34.182801Z"
    }
   },
   "outputs": [],
   "source": [
    "linear_pipe = Pipeline([('features', ColumnTransformer([\n",
    "    ('numeric', StandardScaler(), num_vars),\n",
    "    ('categoric', OneHotEncoder(sparse=True, drop='first'), cat_vars)])),\n",
    "                      ('linear', LinearRegression())])\n",
    "\n",
    "linear_pipe"
   ]
  },
  {
   "cell_type": "code",
   "execution_count": null,
   "metadata": {
    "execution": {
     "iopub.execute_input": "2021-11-29T18:46:37.607088Z",
     "iopub.status.busy": "2021-11-29T18:46:37.606587Z",
     "iopub.status.idle": "2021-11-29T18:46:47.252174Z",
     "shell.execute_reply": "2021-11-29T18:46:47.251142Z",
     "shell.execute_reply.started": "2021-11-29T18:46:37.607056Z"
    }
   },
   "outputs": [],
   "source": [
    "cross_val_score(linear_pipe, X_train, y_train, cv = 5)"
   ]
  },
  {
   "cell_type": "markdown",
   "metadata": {},
   "source": [
    "---\n",
    "## K-Nearest Neighbors \n",
    "\n",
    "Initial Imports"
   ]
  },
  {
   "cell_type": "markdown",
   "metadata": {},
   "source": [
    "Initial Pipeline"
   ]
  },
  {
   "cell_type": "code",
   "execution_count": null,
   "metadata": {
    "execution": {
     "iopub.status.busy": "2021-11-29T18:29:50.332679Z",
     "iopub.status.idle": "2021-11-29T18:29:50.333047Z",
     "shell.execute_reply": "2021-11-29T18:29:50.332898Z",
     "shell.execute_reply.started": "2021-11-29T18:29:50.33288Z"
    }
   },
   "outputs": [],
   "source": [
    "pipe = Pipeline([('features', ColumnTransformer([\n",
    "    ('numeric', StandardScaler(), num_vars),\n",
    "    ('categoric', OneHotEncoder(sparse=True, drop='first'), cat_vars)])),\n",
    "                      ('model', KNeighborsRegressor())])\n",
    "\n",
    "pipe"
   ]
  },
  {
   "cell_type": "markdown",
   "metadata": {},
   "source": [
    "### Cross Validation to determine whether to include the brand variable"
   ]
  },
  {
   "cell_type": "code",
   "execution_count": null,
   "metadata": {
    "execution": {
     "iopub.status.busy": "2021-11-29T18:29:50.334394Z",
     "iopub.status.idle": "2021-11-29T18:29:50.334711Z",
     "shell.execute_reply": "2021-11-29T18:29:50.334562Z",
     "shell.execute_reply.started": "2021-11-29T18:29:50.334539Z"
    }
   },
   "outputs": [],
   "source": [
    "scores_all = cross_val_score(pipe, X_train, y_train, cv = 5)"
   ]
  },
  {
   "cell_type": "markdown",
   "metadata": {},
   "source": [
    "--- \n",
    "# Trees"
   ]
  },
  {
   "cell_type": "markdown",
   "metadata": {},
   "source": [
    "## Decision Tree\n"
   ]
  },
  {
   "cell_type": "markdown",
   "metadata": {},
   "source": [
    "### Initial Pipeline"
   ]
  },
  {
   "cell_type": "code",
   "execution_count": null,
   "metadata": {
    "execution": {
     "iopub.status.busy": "2021-11-29T18:29:50.335682Z",
     "iopub.status.idle": "2021-11-29T18:29:50.336031Z",
     "shell.execute_reply": "2021-11-29T18:29:50.335884Z",
     "shell.execute_reply.started": "2021-11-29T18:29:50.335854Z"
    }
   },
   "outputs": [],
   "source": [
    "from sklearn.tree import DecisionTreeRegressor\n",
    "\n",
    "pipe = Pipeline([('features', ColumnTransformer([\n",
    "    ('numeric', StandardScaler(), num_vars),\n",
    "    ('categoric', OneHotEncoder(sparse=True, drop='first'), cat_vars)])),\n",
    "                      ('model', DecisionTreeRegressor(random_state = 1))])\n",
    "\n",
    "pipe"
   ]
  },
  {
   "cell_type": "markdown",
   "metadata": {},
   "source": [
    "### Do Not Run: Initial Performance\n",
    "\n"
   ]
  },
  {
   "cell_type": "code",
   "execution_count": null,
   "metadata": {},
   "outputs": [],
   "source": [
    "scores_all = cross_val_score(pipe, X_train, y_train, cv = 5, scoring = 'neg_root_mean_squared_error')\n",
    "np.mean(scores_all)"
   ]
  },
  {
   "cell_type": "markdown",
   "metadata": {},
   "source": [
    "### Initial Performance Results:\n",
    "-4140.518178545499"
   ]
  },
  {
   "cell_type": "markdown",
   "metadata": {},
   "source": [
    "### Do Not Run: Hyperparameter Tuning"
   ]
  },
  {
   "cell_type": "code",
   "execution_count": null,
   "metadata": {},
   "outputs": [],
   "source": [
    "from sklearn.model_selection import GridSearchCV\n",
    "\n",
    "param_grid = [{\"model__max_depth\" : [1,5,10],\n",
    "                \"model__max_leaf_nodes\":[None,10,50,100],\n",
    "                \"model__min_samples_leaf\":[1,5,10]}]\n",
    "\n",
    "\n",
    "gs = GridSearchCV(estimator= pipe,\n",
    "                  param_grid=param_grid,\n",
    "                  scoring = 'neg_root_mean_squared_error',\n",
    "                  refit = True,\n",
    "                  cv=5)\n",
    "\n",
    "gs.fit(X_train, y_train)\n",
    "\n",
    "print('Best RMSE: %.3f%%' % (gs.best_score_))\n",
    "print('Best Params:', gs.best_params_)\n",
    "print('Accuracy: %.3f%%' % (gs.best_estimator_.score(X_test, y_test)*100))"
   ]
  },
  {
   "cell_type": "markdown",
   "metadata": {},
   "source": [
    "### Hyperparameter Tuning Results:\n",
    "Best RMSE: -4014.652%\n",
    "Best Params: {'model__max_depth': 10, 'model__max_leaf_nodes': None, 'model__min_samples_leaf': 5}\n",
    "Accuracy: 77.921%"
   ]
  },
  {
   "cell_type": "markdown",
   "metadata": {},
   "source": [
    "### Final Model\n",
    "Using best parameter calculated with GridSearch"
   ]
  },
  {
   "cell_type": "code",
   "execution_count": null,
   "metadata": {},
   "outputs": [],
   "source": [
    "pipe_tree = Pipeline([('features', ColumnTransformer([\n",
    "    ('numeric', StandardScaler(), num_vars),\n",
    "    ('categoric', OneHotEncoder(sparse=True, drop='first'), cat_vars)])),\n",
    "                      ('model', DecisionTreeRegressor(max_depth = 10, max_leaf_nodes = None, min_samples_leaf = 5, random_state = 1))])\n",
    "\n",
    "pipe_tree"
   ]
  },
  {
   "cell_type": "markdown",
   "metadata": {},
   "source": [
    "### Feature Importance"
   ]
  },
  {
   "cell_type": "code",
   "execution_count": null,
   "metadata": {},
   "outputs": [],
   "source": [
    "pipe_tree.fit(X_train,y_train)\n",
    "for importance, name in sorted(zip(pipe_tree.steps[1][1].feature_importances_, X_train.columns),reverse=True)[:10]:\n",
    "    print (name, importance)"
   ]
  },
  {
   "cell_type": "code",
   "execution_count": null,
   "metadata": {},
   "outputs": [],
   "source": [
    "import pylab as plt\n",
    "\n",
    "features = [1,2,3,4,5,6,7,8]\n",
    "importances = [.45292631965999713, .36813948422453335, .053961550813257306, .012371585304217203, .006461353694462267,  .0025208521747745066, .001924184773778391, .0006201678187062528]\n",
    "\n",
    "LABELS = [\"year\", \"hp\", \"kilometer\", \"type\", \"automatic\", \"damaged\", \"fuel\", \"brand\"]\n",
    "\n",
    "plt.bar(features, importances, align='center')\n",
    "plt.xticks(features, LABELS)\n",
    "plt.show()"
   ]
  },
  {
   "cell_type": "markdown",
   "metadata": {},
   "source": [
    "### Final Prediction"
   ]
  },
  {
   "cell_type": "code",
   "execution_count": null,
   "metadata": {},
   "outputs": [],
   "source": [
    "from sklearn.metrics import mean_squared_error\n",
    "from sklearn.metrics import mean_absolute_percentage_error\n",
    "pred = pipe_tree.predict(X_test)\n",
    "\n",
    "print('RMSE on test data: ',  mean_squared_error(y_test, pred)**(0.5))\n",
    "mape = mean_absolute_percentage_error(y_test, pred)*100\n",
    "print('MAPE on test data: ',mape)"
   ]
  },
  {
   "cell_type": "markdown",
   "metadata": {},
   "source": [
    "## Random Forests"
   ]
  },
  {
   "cell_type": "markdown",
   "metadata": {},
   "source": [
    "### Initial Pipeline"
   ]
  },
  {
   "cell_type": "code",
   "execution_count": null,
   "metadata": {},
   "outputs": [],
   "source": [
    "from sklearn.ensemble import RandomForestRegressor\n",
    "\n",
    "pipe = Pipeline([('features', ColumnTransformer([\n",
    "    ('numeric', StandardScaler(), num_vars),\n",
    "    ('categoric', OneHotEncoder(sparse=True, drop='first'), cat_vars)])),\n",
    "                      ('model', RandomForestRegressor(random_state=1))])\n",
    "\n",
    "pipe"
   ]
  },
  {
   "cell_type": "markdown",
   "metadata": {},
   "source": [
    "### Do Not Run: Initial Baseline"
   ]
  },
  {
   "cell_type": "code",
   "execution_count": null,
   "metadata": {},
   "outputs": [],
   "source": [
    "scores_all = cross_val_score(pipe, X_train, y_train, cv = 5, scoring = 'neg_root_mean_squared_error')\n",
    "np.mean(scores_all)"
   ]
  },
  {
   "cell_type": "markdown",
   "metadata": {},
   "source": [
    "### Initial Baseline Results: \n",
    "-3335.5370460504114"
   ]
  },
  {
   "cell_type": "markdown",
   "metadata": {},
   "source": [
    "### Do Not Run: Hyperparamter Tuning"
   ]
  },
  {
   "cell_type": "code",
   "execution_count": null,
   "metadata": {},
   "outputs": [],
   "source": [
    "param_grid = [ {      \n",
    "                         'model__max_features': ['auto', 'sqrt'],\n",
    "                         'model__min_samples_leaf': [2, 5],\n",
    "                         'model__min_samples_split': [2, 5],\n",
    "                    }]\n",
    "\n",
    "\n",
    "gs = GridSearchCV(estimator= pipe,\n",
    "                  param_grid=param_grid,\n",
    "                  scoring = 'neg_root_mean_squared_error',\n",
    "                  refit = True,\n",
    "                  cv=5)\n",
    "\n",
    "gs.fit(X_train, y_train)\n",
    "\n",
    "print('Best RMSE: %.3f%%' % (gs.best_score_))\n",
    "print('Best Params:', gs.best_params_)\n",
    "print('Accuracy: %.3f%%' % (gs.best_estimator_.score(X_test, y_test)*100))"
   ]
  },
  {
   "cell_type": "markdown",
   "metadata": {},
   "source": [
    "### Hyperparameter Tuning Results: \n",
    "Best RMSE: -3331.379%\n",
    "Best Params: {'model__max_features': 'auto', 'model__min_samples_leaf': 2, 'model__min_samples_split': 5}\n",
    "Accuracy: 84.763%"
   ]
  },
  {
   "cell_type": "markdown",
   "metadata": {},
   "source": [
    "### Final Model"
   ]
  },
  {
   "cell_type": "code",
   "execution_count": null,
   "metadata": {},
   "outputs": [],
   "source": [
    "pipe_forest = Pipeline([('features', ColumnTransformer([\n",
    "    ('numeric', StandardScaler(), num_vars),\n",
    "    ('categoric', OneHotEncoder(sparse=True, drop='first'), cat_vars)])),\n",
    "                      ('model', RandomForestRegressor(max_features = 'auto', min_samples_leaf = 2, min_samples_split = 5, random_state = 1))])\n",
    "\n",
    "pipe_forest"
   ]
  },
  {
   "cell_type": "markdown",
   "metadata": {},
   "source": [
    "### Do Not Run: Fitting and Feature Importance"
   ]
  },
  {
   "cell_type": "code",
   "execution_count": null,
   "metadata": {},
   "outputs": [],
   "source": [
    "pipe_forest.fit(X_train,y_train)\n",
    "for importance, name in sorted(zip(pipe_forest.steps[1][1].feature_importances_, X_train.columns),reverse=True)[:10]:\n",
    "    print (name, importance)"
   ]
  },
  {
   "cell_type": "markdown",
   "metadata": {},
   "source": [
    "### Fitting and Feature Importance Results\n"
   ]
  },
  {
   "cell_type": "code",
   "execution_count": null,
   "metadata": {},
   "outputs": [],
   "source": [
    "import pylab as plt\n",
    "\n",
    "features = [1,2,3,4,5,6,7,8]\n",
    "importances = [.4284273329714948, .3451945656319133, .06310091808587716, .015230108605218376, .008297465775180667,  .004567383091394414, .004003910861843181, .001037417752473544]\n",
    "\n",
    "LABELS = [\"year\", \"hp\", \"kilometer\", \"type\", \"automatic\", \"damaged\", \"fuel\", \"brand\"]\n",
    "\n",
    "plt.bar(features, importances, align='center')\n",
    "plt.xticks(features, LABELS)\n",
    "plt.show()"
   ]
  },
  {
   "cell_type": "markdown",
   "metadata": {},
   "source": [
    "### Final Prediction"
   ]
  },
  {
   "cell_type": "code",
   "execution_count": null,
   "metadata": {},
   "outputs": [],
   "source": [
    "pred = pipe_forest.predict(X_test)\n",
    "\n",
    "print('RMSE on test data: ',  mean_squared_error(y_test, pred)**(0.5))\n",
    "mape = mean_absolute_percentage_error(y_test, pred)*100\n",
    "print('MAPE on test data: ',mape)"
   ]
  },
  {
   "cell_type": "markdown",
   "metadata": {},
   "source": [
    "---\n",
    "# LightGBM"
   ]
  },
  {
   "cell_type": "markdown",
   "metadata": {},
   "source": [
    "### Encoding categorical variables"
   ]
  },
  {
   "cell_type": "code",
   "execution_count": null,
   "metadata": {
    "execution": {
     "iopub.status.busy": "2021-11-29T18:29:50.338933Z",
     "iopub.status.idle": "2021-11-29T18:29:50.339218Z",
     "shell.execute_reply": "2021-11-29T18:29:50.339081Z",
     "shell.execute_reply.started": "2021-11-29T18:29:50.339065Z"
    }
   },
   "outputs": [],
   "source": [
    "lgbm_pipe = Pipeline([('features', ColumnTransformer([\n",
    "    ('numeric', StandardScaler(), num_vars),\n",
    "    ('categoric', OneHotEncoder(sparse=True, drop='first'), cat_vars)])),\n",
    "                      ('model', lgbm.LGBMRegressor(metric='rmse'))])\n",
    "\n",
    "lgbm_pipe"
   ]
  },
  {
   "cell_type": "code",
   "execution_count": null,
   "metadata": {
    "execution": {
     "iopub.status.busy": "2021-11-29T18:29:50.340342Z",
     "iopub.status.idle": "2021-11-29T18:29:50.340649Z",
     "shell.execute_reply": "2021-11-29T18:29:50.340504Z",
     "shell.execute_reply.started": "2021-11-29T18:29:50.340483Z"
    }
   },
   "outputs": [],
   "source": [
    "lgbm_scores = cross_val_score(lgbm_pipe, X_train, y_train, cv = 5, scoring='neg_root_mean_squared_error')\n",
    "np.mean(-1 * lgbm_scores)"
   ]
  },
  {
   "cell_type": "markdown",
   "metadata": {},
   "source": [
    "### Using raw categorical variables"
   ]
  },
  {
   "cell_type": "code",
   "execution_count": null,
   "metadata": {
    "execution": {
     "iopub.status.busy": "2021-11-29T18:29:50.342337Z",
     "iopub.status.idle": "2021-11-29T18:29:50.342665Z",
     "shell.execute_reply": "2021-11-29T18:29:50.34251Z",
     "shell.execute_reply.started": "2021-11-29T18:29:50.342494Z"
    }
   },
   "outputs": [],
   "source": [
    "lgbm_pipe_cat = Pipeline([('features', ColumnTransformer([\n",
    "    ('numeric', StandardScaler(), num_vars),\n",
    "    ('categoric', OrdinalEncoder(dtype=int), cat_vars)])),\n",
    "                      ('model', lgbm.LGBMRegressor(metric='rmse',\n",
    "                                                  categorical_features=[3,4,5,6,7]))])\n",
    "\n",
    "lgbm_pipe_cat"
   ]
  },
  {
   "cell_type": "code",
   "execution_count": null,
   "metadata": {
    "execution": {
     "iopub.status.busy": "2021-11-29T18:29:50.348355Z",
     "iopub.status.idle": "2021-11-29T18:29:50.348706Z",
     "shell.execute_reply": "2021-11-29T18:29:50.348554Z",
     "shell.execute_reply.started": "2021-11-29T18:29:50.348526Z"
    }
   },
   "outputs": [],
   "source": [
    "lgbm_scores_cat = cross_val_score(lgbm_pipe_cat, X_train, y_train, cv = 5, scoring='neg_root_mean_squared_error')\n",
    "np.mean(-1 * lgbm_scores_cat)"
   ]
  },
  {
   "cell_type": "code",
   "execution_count": null,
   "metadata": {
    "execution": {
     "iopub.status.busy": "2021-11-29T18:29:50.350118Z",
     "iopub.status.idle": "2021-11-29T18:29:50.350417Z",
     "shell.execute_reply": "2021-11-29T18:29:50.350278Z",
     "shell.execute_reply.started": "2021-11-29T18:29:50.350263Z"
    }
   },
   "outputs": [],
   "source": [
    "lgbm_pipe_cat.get_params()"
   ]
  },
  {
   "cell_type": "markdown",
   "metadata": {},
   "source": [
    "Slightly better performance using categorical features as is instead of encoding them. \n",
    "\n",
    "## Hyperparameter Tuning"
   ]
  },
  {
   "cell_type": "code",
   "execution_count": null,
   "metadata": {
    "execution": {
     "iopub.status.busy": "2021-11-29T18:29:50.352437Z",
     "iopub.status.idle": "2021-11-29T18:29:50.352779Z",
     "shell.execute_reply": "2021-11-29T18:29:50.352603Z",
     "shell.execute_reply.started": "2021-11-29T18:29:50.352587Z"
    }
   },
   "outputs": [],
   "source": [
    "gridParams = {\n",
    "    'model__learning_rate': [0.05, 0.1, 0.2],\n",
    "    'model__n_estimators': [50,100,200],\n",
    "    'model__num_leaves': [16, 31, 62], # large num_leaves helps improve accuracy but might lead to over-fitting\n",
    "    'model__max_bin':[255, 510], # large max_bin helps improve accuracy but might slow down training progress\n",
    "    'model__random_state' : [500],\n",
    "    'model__subsample' : [0.65, 0.7, 0.75],\n",
    "    'model__reg_alpha' : [0,0.1],\n",
    "    'model__reg_lambda' : [0,0.1],\n",
    "    }"
   ]
  },
  {
   "cell_type": "code",
   "execution_count": null,
   "metadata": {
    "execution": {
     "iopub.status.busy": "2021-11-29T18:29:50.354197Z",
     "iopub.status.idle": "2021-11-29T18:29:50.354818Z",
     "shell.execute_reply": "2021-11-29T18:29:50.354629Z",
     "shell.execute_reply.started": "2021-11-29T18:29:50.354608Z"
    }
   },
   "outputs": [],
   "source": [
    "search = GridSearchCV(lgbm_pipe_cat, gridParams, scoring='neg_root_mean_squared_error', verbose=2, n_jobs=-1)\n",
    "search.fit(X_train, y_train)"
   ]
  },
  {
   "cell_type": "code",
   "execution_count": null,
   "metadata": {
    "execution": {
     "iopub.status.busy": "2021-11-29T18:29:50.355861Z",
     "iopub.status.idle": "2021-11-29T18:29:50.356161Z",
     "shell.execute_reply": "2021-11-29T18:29:50.356021Z",
     "shell.execute_reply.started": "2021-11-29T18:29:50.356006Z"
    }
   },
   "outputs": [],
   "source": [
    "print(search.best_params_)\n",
    "print(search.best_score_)"
   ]
  },
  {
   "cell_type": "code",
   "execution_count": null,
   "metadata": {
    "execution": {
     "iopub.status.busy": "2021-11-29T18:29:50.357344Z",
     "iopub.status.idle": "2021-11-29T18:29:50.357646Z",
     "shell.execute_reply": "2021-11-29T18:29:50.357501Z",
     "shell.execute_reply.started": "2021-11-29T18:29:50.357486Z"
    }
   },
   "outputs": [],
   "source": [
    "best_params = {'learning_rate': 0.1,\n",
    "               'max_bin': 510,\n",
    "               'n_estimators': 200,\n",
    "               'num_leaves': 62,\n",
    "               'random_state': 500,\n",
    "               'reg_alpha': 0,\n",
    "               'reg_lambda': 0,\n",
    "               'subsample': 0.65}"
   ]
  },
  {
   "cell_type": "code",
   "execution_count": null,
   "metadata": {
    "execution": {
     "iopub.status.busy": "2021-11-29T18:29:50.358439Z",
     "iopub.status.idle": "2021-11-29T18:29:50.358753Z",
     "shell.execute_reply": "2021-11-29T18:29:50.358588Z",
     "shell.execute_reply.started": "2021-11-29T18:29:50.358573Z"
    }
   },
   "outputs": [],
   "source": [
    "lgbm_pipe_opt = Pipeline([('features', ColumnTransformer([\n",
    "    ('numeric', StandardScaler(), num_vars),\n",
    "    ('categoric', OrdinalEncoder(dtype=int), cat_vars)])),\n",
    "                      ('model', lgbm.LGBMRegressor(metric='rmse',\n",
    "                                                  categorical_features=[3,4,5,6,7],\n",
    "                                                  **best_params))])\n",
    "\n",
    "lgbm_pipe_opt"
   ]
  },
  {
   "cell_type": "code",
   "execution_count": null,
   "metadata": {
    "execution": {
     "iopub.status.busy": "2021-11-29T18:29:50.359741Z",
     "iopub.status.idle": "2021-11-29T18:29:50.360033Z",
     "shell.execute_reply": "2021-11-29T18:29:50.359894Z",
     "shell.execute_reply.started": "2021-11-29T18:29:50.359879Z"
    }
   },
   "outputs": [],
   "source": [
    "lgbm_scores_opt = cross_val_score(lgbm_pipe_opt, X_train, y_train, cv = 5, scoring='neg_root_mean_squared_error')\n",
    "np.mean(-1 * lgbm_scores_opt)"
   ]
  },
  {
   "cell_type": "markdown",
   "metadata": {},
   "source": [
    "### Cross-Validation"
   ]
  },
  {
   "cell_type": "code",
   "execution_count": null,
   "metadata": {
    "execution": {
     "iopub.status.busy": "2021-11-29T18:29:50.362212Z",
     "iopub.status.idle": "2021-11-29T18:29:50.362512Z",
     "shell.execute_reply": "2021-11-29T18:29:50.362371Z",
     "shell.execute_reply.started": "2021-11-29T18:29:50.362355Z"
    }
   },
   "outputs": [],
   "source": [
    "# model = lgbm.LGBMRegressor(**study.best_params)\n",
    "# model.fit(X_train, y_train)\n",
    "# preds = model.predict(X_test)"
   ]
  },
  {
   "cell_type": "markdown",
   "metadata": {},
   "source": [
    "#### Optuna Auto-CV"
   ]
  },
  {
   "cell_type": "code",
   "execution_count": null,
   "metadata": {
    "execution": {
     "iopub.status.busy": "2021-11-29T18:29:50.364381Z",
     "iopub.status.idle": "2021-11-29T18:29:50.364736Z",
     "shell.execute_reply": "2021-11-29T18:29:50.364571Z",
     "shell.execute_reply.started": "2021-11-29T18:29:50.364554Z"
    },
    "scrolled": true
   },
   "outputs": [],
   "source": [
    "kf = KFold(shuffle=True, random_state=42)\n",
    "\n",
    "for var in cat_vars:\n",
    "    X_train[var] = OrdinalEncoder().fit_transform(X_train[var].values.reshape(-1,1))\n",
    "\n",
    "params = {\n",
    "        \"objective\": \"regression\",\n",
    "        \"metric\": \"l2\",\n",
    "        \"verbosity\": -1,\n",
    "        \"boosting_type\": \"gbdt\",                \n",
    "        \"seed\": 42\n",
    "    }\n",
    "\n",
    "X = np.array(X_train)    \n",
    "y = np.array(y_train).flatten()\n",
    "\n",
    "study_tuner = optuna.create_study(direction='minimize')\n",
    "dtrain = lgb.Dataset(X, label=y)\n",
    "\n",
    "# Suppress information only outputs - otherwise optuna is \n",
    "# quite verbose, which can be nice, but takes up a lot of space\n",
    "optuna.logging.set_verbosity(optuna.logging.WARNING) \n",
    "\n",
    "# Run optuna LightGBMTunerCV tuning of LightGBM with cross-validation\n",
    "tuner = lgb.LightGBMTunerCV(params, \n",
    "                            dtrain, \n",
    "                            categorical_feature=[3,4,5,6,7],\n",
    "                            study=study_tuner,\n",
    "                            early_stopping_rounds=50,\n",
    "                            time_budget= 4 * 60 * 60, #19800, # Time budget of 5 hours, we will not really need it\n",
    "                            seed = 42,\n",
    "                            folds=kf,\n",
    "                            )\n",
    "\n",
    "tuner.run()"
   ]
  },
  {
   "cell_type": "code",
   "execution_count": null,
   "metadata": {
    "execution": {
     "iopub.status.busy": "2021-11-29T18:29:50.366307Z",
     "iopub.status.idle": "2021-11-29T18:29:50.366619Z",
     "shell.execute_reply": "2021-11-29T18:29:50.366476Z",
     "shell.execute_reply.started": "2021-11-29T18:29:50.36646Z"
    }
   },
   "outputs": [],
   "source": [
    "# import json\n",
    "# best_params = tuner.best_params\n",
    "# with open('params.txt', 'w') as convert_file:\n",
    "#      convert_file.write(json.dumps(best_params))"
   ]
  },
  {
   "cell_type": "code",
   "execution_count": null,
   "metadata": {
    "execution": {
     "iopub.status.busy": "2021-11-29T18:29:50.367586Z",
     "iopub.status.idle": "2021-11-29T18:29:50.36792Z",
     "shell.execute_reply": "2021-11-29T18:29:50.367767Z",
     "shell.execute_reply.started": "2021-11-29T18:29:50.367745Z"
    }
   },
   "outputs": [],
   "source": [
    "best_params = {\"objective\": \"regression\", \"verbosity\": -1, \"boosting_type\": \"gbdt\", \"seed\": 42, \"feature_pre_filter\": False, \"lambda_l1\": 2.9645157648969746e-06, \"lambda_l2\": 1.5726550639201562, \"num_leaves\": 256, \"feature_fraction\": 0.88, \"bagging_fraction\": 0.750496500444326, \"bagging_freq\": 1, \"min_child_samples\": 20}"
   ]
  },
  {
   "cell_type": "code",
   "execution_count": null,
   "metadata": {
    "execution": {
     "iopub.status.busy": "2021-11-29T18:29:50.368948Z",
     "iopub.status.idle": "2021-11-29T18:29:50.369243Z",
     "shell.execute_reply": "2021-11-29T18:29:50.369105Z",
     "shell.execute_reply.started": "2021-11-29T18:29:50.369089Z"
    }
   },
   "outputs": [],
   "source": [
    "lgbm_pipe_optuna = Pipeline([('features', ColumnTransformer([\n",
    "    ('numeric', StandardScaler(), num_vars),\n",
    "    ('categoric', OrdinalEncoder(dtype=int), cat_vars)])),\n",
    "                      ('model', lgbm.LGBMRegressor(metric='rmse',\n",
    "                                                  categorical_features=[3,4,5,6,7],\n",
    "                                                  **best_params))])\n",
    "\n",
    "lgbm_pipe_optuna"
   ]
  },
  {
   "cell_type": "code",
   "execution_count": null,
   "metadata": {
    "execution": {
     "iopub.status.busy": "2021-11-29T18:29:50.370666Z",
     "iopub.status.idle": "2021-11-29T18:29:50.370983Z",
     "shell.execute_reply": "2021-11-29T18:29:50.370842Z",
     "shell.execute_reply.started": "2021-11-29T18:29:50.370826Z"
    }
   },
   "outputs": [],
   "source": [
    "lgbm_scores_optuna = cross_val_score(lgbm_pipe_cat, X_train, y_train, cv = 5, scoring='neg_root_mean_squared_error')\n",
    "np.mean(-1 * lgbm_scores_optuna)"
   ]
  },
  {
   "cell_type": "code",
   "execution_count": null,
   "metadata": {
    "execution": {
     "iopub.status.busy": "2021-11-29T18:29:50.371803Z",
     "iopub.status.idle": "2021-11-29T18:29:50.372095Z",
     "shell.execute_reply": "2021-11-29T18:29:50.371956Z",
     "shell.execute_reply.started": "2021-11-29T18:29:50.371939Z"
    }
   },
   "outputs": [],
   "source": [
    "lgbm_pipe_mape = Pipeline([('features', ColumnTransformer([\n",
    "    ('numeric', StandardScaler(), num_vars),\n",
    "    ('categoric', OrdinalEncoder(dtype=int), cat_vars)])),\n",
    "                      ('model', lgbm.LGBMRegressor(metric='mape',\n",
    "                                                  categorical_features=[3,4,5,6,7],\n",
    "                                                  **best_params))])\n",
    "\n",
    "lgbm_pipe_mape"
   ]
  },
  {
   "cell_type": "code",
   "execution_count": null,
   "metadata": {
    "execution": {
     "iopub.status.busy": "2021-11-29T18:29:50.373449Z",
     "iopub.status.idle": "2021-11-29T18:29:50.373794Z",
     "shell.execute_reply": "2021-11-29T18:29:50.373607Z",
     "shell.execute_reply.started": "2021-11-29T18:29:50.373591Z"
    }
   },
   "outputs": [],
   "source": [
    "#from sklearn.metrics import mean_absolute_percentage_error\n",
    "\n",
    "lgbm_pipe_opt.fit(X_train, y_train)\n",
    "preds_rmse = lgbm_pipe_opt.predict(X_test)\n",
    "print(f'RMSE: {metrics.mean_squared_error(y_test, preds_rmse, squared=False)}')\n",
    "\n",
    "lgbm_pipe_mape.fit(X_train, y_train)\n",
    "#preds_mape = lgbm_pipe_mape.predict(X_test)\n",
    "print(f'MAPE: {lgbm_pipe_opt.score(X_test, y_test)}')"
   ]
  },
  {
   "cell_type": "code",
   "execution_count": null,
   "metadata": {
    "execution": {
     "iopub.status.busy": "2021-11-29T18:29:50.374807Z",
     "iopub.status.idle": "2021-11-29T18:29:50.375103Z",
     "shell.execute_reply": "2021-11-29T18:29:50.374964Z",
     "shell.execute_reply.started": "2021-11-29T18:29:50.374948Z"
    }
   },
   "outputs": [],
   "source": [
    "pd.DataFrame(lgbm_pipe_opt.steps[1][1].feature_importances_, X_train.columns).sort_values(by=0, ascending=False).plot.bar()"
   ]
  },
  {
   "cell_type": "code",
   "execution_count": null,
   "metadata": {
    "execution": {
     "iopub.status.busy": "2021-11-29T18:29:50.376082Z",
     "iopub.status.idle": "2021-11-29T18:29:50.376715Z",
     "shell.execute_reply": "2021-11-29T18:29:50.376569Z",
     "shell.execute_reply.started": "2021-11-29T18:29:50.376551Z"
    }
   },
   "outputs": [],
   "source": [
    "pd.DataFrame(lgbm_pipe_mape.steps[1][1].feature_importances_, X_train.columns).sort_values(by=0, ascending=False).plot.bar()"
   ]
  }
 ],
 "metadata": {
  "kernelspec": {
   "display_name": "Python 3 (ipykernel)",
   "language": "python",
   "name": "python3"
  },
  "language_info": {
   "codemirror_mode": {
    "name": "ipython",
    "version": 3
   },
   "file_extension": ".py",
   "mimetype": "text/x-python",
   "name": "python",
   "nbconvert_exporter": "python",
   "pygments_lexer": "ipython3",
   "version": "3.9.7"
  }
 },
 "nbformat": 4,
 "nbformat_minor": 4
}
